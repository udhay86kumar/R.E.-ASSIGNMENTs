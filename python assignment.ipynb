{
 "cells": [
  {
   "cell_type": "markdown",
   "id": "a892cbf2",
   "metadata": {},
   "source": [
    "# WEEK2: Assignment on Python String\n",
    "program 1:"
   ]
  },
  {
   "cell_type": "markdown",
   "id": "ebb44272",
   "metadata": {},
   "source": [
    "Problem Statements:\n",
    "Software Development Team needs to assign a python Developer to develop a python application\n",
    "using Login password Validation, with the following Primary conditions for password validation:\n",
    "- 1.Minimum 8 characters.\n",
    "- 2.The alphabet must be between [a-z]\n",
    "- 3.At least one alphabet should be of Upper Case [A-Z]\n",
    "- 4.At least 1 number or digit between [0-9]\n",
    "- 5.At least 1 character from [ _ or @ or $ ]"
   ]
  },
  {
   "cell_type": "code",
   "execution_count": 10,
   "id": "0e9eb01c",
   "metadata": {},
   "outputs": [
    {
     "name": "stdout",
     "output_type": "stream",
     "text": [
      "Enter your password must 8 character:Udhayavijay88@\n",
      "valid Password\n"
     ]
    }
   ],
   "source": [
    "password = input(\"Enter your password must 8 character:\")\n",
    "p=0\n",
    "s=0\n",
    "a=0\n",
    "c=0\n",
    "if len(password) >= 8:\n",
    "    for i in password:\n",
    "        if 65<= ord(i) <=90:\n",
    "            c +=1\n",
    "        if 97<= ord(i) <=122:    \n",
    "            p += 1\n",
    "        if 48<= ord(i) <=57:\n",
    "            s += 1\n",
    "        if ord(i) == 64 or ord(i) ==95 or ord(i)==36:\n",
    "            a += 1\n",
    "if c==0:\n",
    "    print(\"Upper Case is missing \")\n",
    "if s==0:\n",
    "    print(\"Number is missing\")\n",
    "if a==0:\n",
    "    print(\"Must consist from _ or @ or $\")     \n",
    "if a>=1 and p>=1 and s>=1 and c>=1 and a+p+s+c == len(password):\n",
    "    print(\"valid Password\")\n",
    "else:\n",
    "    print(\"Invalid password\")"
   ]
  },
  {
   "cell_type": "markdown",
   "id": "357be630",
   "metadata": {},
   "source": [
    "# Program 2:"
   ]
  },
  {
   "cell_type": "markdown",
   "id": "66c9999a",
   "metadata": {},
   "source": [
    "Data scientist getting time data as in string format from real-time IoT Machines like, time =\n",
    "'20:26:45', \n",
    "Actuly they want to anaysis time data with hours , miniutes and seconds separatly. \n",
    "How will you help them to seperate this string data into the following output \n",
    "hours:20\n",
    "miniutes:26\n",
    "seconds:45"
   ]
  },
  {
   "cell_type": "code",
   "execution_count": 11,
   "id": "23637444",
   "metadata": {
    "scrolled": true
   },
   "outputs": [
    {
     "name": "stdout",
     "output_type": "stream",
     "text": [
      " hours:20\n",
      " miniutes:26\n",
      " seconds:45 \n"
     ]
    }
   ],
   "source": [
    "time = '20:26:45'\n",
    "time1=time.split(':')\n",
    "print(f\" hours:{time1[0]}\\n miniutes:{time1[1]}\\n seconds:{time1[2]} \")"
   ]
  },
  {
   "cell_type": "markdown",
   "id": "b2aa1969",
   "metadata": {},
   "source": [
    "# program 3:"
   ]
  },
  {
   "cell_type": "markdown",
   "id": "b7954c80",
   "metadata": {},
   "source": [
    "Write a Python program to search a specific word in a string.\n",
    "Input:\n",
    "Enter a String: I am a python programmer\n",
    "Enter a word to search: python\n",
    "Expected output\n",
    "python exists in string\n"
   ]
  },
  {
   "cell_type": "code",
   "execution_count": 8,
   "id": "c980a352",
   "metadata": {},
   "outputs": [
    {
     "name": "stdout",
     "output_type": "stream",
     "text": [
      "Enter a String:udhaya vijay \n",
      "Enter a word to search:vijay\n",
      "vijay Success  search in string\n"
     ]
    }
   ],
   "source": [
    "str1=input(\"Enter a String:\")\n",
    "str2=input(\"Enter a word to search:\")\n",
    "str3=str1.split(\" \")\n",
    "u=0\n",
    "for i in str3:\n",
    "    if i == str2:\n",
    "        u += 1\n",
    "        print(f\"{str2} Success  search in string\")\n",
    "if u==0:\n",
    "    print(f\"{str2} exists in string\")"
   ]
  },
  {
   "cell_type": "markdown",
   "id": "9c4f98c2",
   "metadata": {},
   "source": [
    "#  Problem 4:"
   ]
  },
  {
   "cell_type": "markdown",
   "id": "cf8e3d54",
   "metadata": {},
   "source": [
    "Write a python program to remove duplicates in a string.\n",
    "Input: pythonlobby\n",
    "Expected output\n",
    "Result is: p y t h o n l b"
   ]
  },
  {
   "cell_type": "code",
   "execution_count": 3,
   "id": "e1726701",
   "metadata": {},
   "outputs": [
    {
     "name": "stdout",
     "output_type": "stream",
     "text": [
      "Enter a String:pythonllb\n",
      "['p', 'y', 't', 'h', 'o', 'n', 'l', 'b']\n"
     ]
    }
   ],
   "source": [
    "str1=input(\"Enter a String:\")\n",
    "str2=list(str1)\n",
    "dub = [str2[0]]\n",
    "for i in str2:\n",
    "    for j in str2:\n",
    "        if i != j and j not in dub:\n",
    "                    dub.append(j)\n",
    "print(str(dub))"
   ]
  },
  {
   "cell_type": "code",
   "execution_count": null,
   "id": "9dff3b7d",
   "metadata": {},
   "outputs": [],
   "source": []
  }
 ],
 "metadata": {
  "kernelspec": {
   "display_name": "Python 3 (ipykernel)",
   "language": "python",
   "name": "python3"
  },
  "language_info": {
   "codemirror_mode": {
    "name": "ipython",
    "version": 3
   },
   "file_extension": ".py",
   "mimetype": "text/x-python",
   "name": "python",
   "nbconvert_exporter": "python",
   "pygments_lexer": "ipython3",
   "version": "3.10.0"
  }
 },
 "nbformat": 4,
 "nbformat_minor": 5
}
