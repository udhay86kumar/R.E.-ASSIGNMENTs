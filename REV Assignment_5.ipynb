{
 "cells": [
  {
   "cell_type": "raw",
   "id": "602e2279",
   "metadata": {},
   "source": [
    "Q.1 Problem Statements:\n",
    "Create a python program for taking user notes in text file. When a user starts it up, it should prompt\n",
    "them for a filename.\n",
    "If they enter a file name that doesn't exist, it should prompt them to enter the text they want to\n",
    "write to the file.\n",
    "After they enter the text, it should save the file and exit.If they enter a file name that already\n",
    "exists, \n",
    "it should ask the user if they want:\n",
    "A) Read the file\n",
    "B) Append the file\n",
    "C) Delete the file and start over\n",
    "If the user wants to read the file it should simply show the contents of the file on the screen.\n",
    "If the user wants to start over then the file should be deleted and another empty one made in its\n",
    "place.\n",
    "If a user elects to append the file, then they should be able to enter more text, \n",
    "and that text should be added to the existing text in the file.\n",
    "Note:\n",
    " The software Development Team created partial python code for the above problem statement, you try\n",
    "to help them to complete the code wherever required and produce successful output\n"
   ]
  },
  {
   "cell_type": "code",
   "execution_count": 13,
   "id": "71ef2794",
   "metadata": {},
   "outputs": [
    {
     "name": "stdout",
     "output_type": "stream",
     "text": [
      "Enter The File Nameudhaya.txt\n",
      "Looking for file:udhaya.txt\n",
      "Found it\n",
      "Enter the possible file operation: read, append, delete, replace\n",
      "append\n",
      "my aim is data scientist\n"
     ]
    },
    {
     "data": {
      "text/plain": [
       "'To Do : write the code for file create and write the notes '"
      ]
     },
     "execution_count": 13,
     "metadata": {},
     "output_type": "execute_result"
    }
   ],
   "source": [
    "\n",
    "import os\n",
    "filename=input(\"Enter The File Name\")\n",
    "# Here we check if the file exists\n",
    "if os.path.isfile('./'+filename):\n",
    "    print(f\"Looking for file:{filename}\")\n",
    "    print(\"Found it\")\n",
    "    action = input(\"Enter the possible file operation: read, append, delete, replace\\n\")\n",
    "    if action==\"read\":\n",
    "        f = open(filename,'r')\n",
    "        for i in f:\n",
    "            print(i)\n",
    "        f.close()\n",
    "    elif action==\"append\":\n",
    "        a = open(filename,\"a\")\n",
    "        s = input()\n",
    "        a.write(s)\n",
    "        a.close()\n",
    "\n",
    "    elif action == \"delete\":\n",
    "        if os.path.exists(filename):\n",
    "            os.remove(filename)\n",
    "        else:\n",
    "            print(\"The file does not exist\")\n",
    "    else:\n",
    "        print(\"Sorry, unrecognized action 😢\")\n",
    "else:\n",
    "    print(\"Nope, this file does not exist, I'm going to create it for you! 😄\")\n",
    "\"\"\"To Do : write the code for file create and write the notes \"\"\""
   ]
  },
  {
   "cell_type": "raw",
   "id": "0235752f",
   "metadata": {},
   "source": [
    "Q2.Text File Analytics:\n",
    "Q2.1 Assume you as Data Analyst, you need to collect all text file name from current working directory\n",
    "and store the all text file name into \n",
    " \"txtfile_namelist.txt\" and read this file and print How many files are available in that namelist.\n"
   ]
  },
  {
   "cell_type": "code",
   "execution_count": 91,
   "id": "bcd6a049",
   "metadata": {},
   "outputs": [
    {
     "name": "stdout",
     "output_type": "stream",
     "text": [
      "data.txt\n",
      "REV-WEEK4- Assignment on Python Function .ipynb.txt\n",
      "txtfile_namelist.txt\n",
      "udhaya.txt\n",
      "udhayavijay.txt\n"
     ]
    }
   ],
   "source": [
    "s=os.listdir(\".\")\n",
    "for i in s:\n",
    "    if i.endswith('.txt'):\n",
    "        with  open(\"txtfile_namelist.txt\",'w') as f:\n",
    "            f.write(i)\n",
    "        with open(\"txtfile_namelist.txt\",'r') as f:\n",
    "            for file in f:\n",
    "                print(file)"
   ]
  },
  {
   "cell_type": "raw",
   "id": "d583a2c2",
   "metadata": {},
   "source": [
    "Q2.2 write the following contents to zenofpython.txt\n",
    "content:\n",
    "--------------------------------------------------------------\n",
    "The Zen of Python, by Tim Peters\n",
    "Beautiful is better than ugly.\n",
    "Explicit is better than implicit.\n",
    "Simple is better than complex.\n",
    "Complex is better than complicated.\n",
    "Flat is better than nested.\n",
    "Sparse is better than dense.\n",
    "Readability counts.\n",
    "Special cases aren't special enough to break the rules.\n",
    "Although practicality beats purity.\n",
    "Errors should never pass silently.\n",
    "Unless explicitly silenced.\n",
    "In the face of ambiguity, refuse the temptation to guess.\n",
    "There should be one -- and preferably only one -- obvious way to do it.\n",
    "Although that way may not be obvious at first unless you're Dutch.\n",
    "Now is better than never.\n",
    "Although never is often better than right now.\n",
    "If the implementation is hard to explain, it's a bad idea.\n",
    "If the implementation is easy to explain, it may be a good idea.\n",
    "Namespaces are one honking great idea -- let's do more of those!\n",
    "------------------------------------------------------------------\n",
    "an perform the following Operation:\n",
    "1.print number of lines in the zenofpython.txt file\n",
    "2.print number of words in the zenofpython.txt file\n",
    "3.Print how many python keyword present in the zenofpython.txt file\n",
    "4.print the all content in uppercase\n"
   ]
  },
  {
   "cell_type": "code",
   "execution_count": 95,
   "id": "39b76453",
   "metadata": {},
   "outputs": [
    {
     "name": "stdout",
     "output_type": "stream",
     "text": [
      "21\n"
     ]
    }
   ],
   "source": [
    "with open(\"zenofpython.txt\",'r') as f:\n",
    "    print(len(f.readlines()))"
   ]
  },
  {
   "cell_type": "code",
   "execution_count": 155,
   "id": "f1986896",
   "metadata": {},
   "outputs": [
    {
     "name": "stdout",
     "output_type": "stream",
     "text": [
      "146\n"
     ]
    }
   ],
   "source": [
    "c = 0\n",
    "with open(\"zenofpython.txt\",'r') as f:\n",
    "     for i in f.readlines():\n",
    "        for j in i.split():\n",
    "            c += 1\n",
    "print(c)"
   ]
  },
  {
   "cell_type": "code",
   "execution_count": 174,
   "id": "9793b033",
   "metadata": {},
   "outputs": [
    {
     "name": "stdout",
     "output_type": "stream",
     "text": [
      "Python,\n",
      "1\n"
     ]
    }
   ],
   "source": [
    "c=0\n",
    "with open(\"zenofpython.txt\",'r') as f:\n",
    "    data = f.readlines()\n",
    "    for i in data:\n",
    "        for j in i.split():\n",
    "            s =j.split(',')\n",
    "            if \"Python\" == s[0]:\n",
    "                print(j)\n",
    "                c += 1\n",
    "print(c)"
   ]
  },
  {
   "cell_type": "code",
   "execution_count": 176,
   "id": "a94959fa",
   "metadata": {},
   "outputs": [
    {
     "name": "stdout",
     "output_type": "stream",
     "text": [
      "THE ZEN OF PYTHON, BY TIM PETERS\n",
      "\n",
      "BEAUTIFUL IS BETTER THAN UGLY.\n",
      "\n",
      "EXPLICIT IS BETTER THAN IMPLICIT.\n",
      "\n",
      "SIMPLE IS BETTER THAN COMPLEX.\n",
      "\n",
      "COMPLEX IS BETTER THAN COMPLICATED.\n",
      "\n",
      "FLAT IS BETTER THAN NESTED.\n",
      "\n",
      "SPARSE IS BETTER THAN DENSE.\n",
      "\n",
      "READABILITY COUNTS.\n",
      "\n",
      "SPECIAL CASES AREN'T SPECIAL ENOUGH TO BREAK THE RULES.\n",
      "\n",
      "ALTHOUGH PRACTICALITY BEATS PURITY.\n",
      "\n",
      "ERRORS SHOULD NEVER PASS SILENTLY.\n",
      "\n",
      "UNLESS EXPLICITLY SILENCED.\n",
      "\n",
      "IN THE FACE OF AMBIGUITY, REFUSE THE TEMPTATION TO GUESS.\n",
      "\n",
      "THERE SHOULD BE ONE -- AND PREFERABLY ONLY ONE -- OBVIOUS WAY TO DO IT.\n",
      "\n",
      "ALTHOUGH THAT WAY MAY NOT BE OBVIOUS AT FIRST UNLESS YOU'RE DUTCH.\n",
      "\n",
      "NOW IS BETTER THAN NEVER.\n",
      "\n",
      "ALTHOUGH NEVER IS OFTEN BETTER THAN RIGHT NOW.\n",
      "\n",
      "IF THE IMPLEMENTATION IS HARD TO EXPLAIN, IT'S A BAD IDEA.\n",
      "\n",
      "IF THE IMPLEMENTATION IS EASY TO EXPLAIN, IT MAY BE A GOOD IDEA.\n",
      "\n",
      "NAMESPACES ARE ONE HONKING GREAT IDEA -- LET'S DO MORE OF THOSE!\n",
      "\n",
      "\n",
      "\n"
     ]
    }
   ],
   "source": [
    "with open(\"zenofpython.txt\",'r') as f:\n",
    "    data = f.readlines()\n",
    "    for i in data:\n",
    "        w = i.upper()\n",
    "        print(w)"
   ]
  },
  {
   "cell_type": "markdown",
   "id": "566e3914",
   "metadata": {},
   "source": [
    "Q3.1 Create Grades.txt File and wrlike content as given below image, and Completed the coding part to\n",
    "produce the desired output.\n"
   ]
  },
  {
   "cell_type": "code",
   "execution_count": 110,
   "id": "67241371",
   "metadata": {},
   "outputs": [
    {
     "name": "stdout",
     "output_type": "stream",
     "text": [
      "Enter the number of student:5\n",
      "34\n",
      "56\n",
      "78\n",
      "67\n",
      "100\n",
      "45\n",
      "67\n",
      "87\n",
      "98\n",
      "67\n",
      "56\n",
      "34\n",
      "56\n",
      "54\n",
      "76\n",
      "89\n",
      "45\n",
      "67\n",
      "89\n",
      "34\n",
      "65\n",
      "67\n",
      "89\n",
      "65\n",
      "54\n"
     ]
    }
   ],
   "source": [
    "with open(\"Grades.txt\",\"w+\") as gd:\n",
    "    n=int(input(\"Enter the number of student:\"))\n",
    "    gd.write(str(n))\n",
    "    for i in range(n):\n",
    "        gd.write(\"\\n\")\n",
    "        for j in range(5):\n",
    "            s = input()\n",
    "            gd.write(s)\n",
    "            gd.write(\" \")\n",
    "            "
   ]
  },
  {
   "cell_type": "code",
   "execution_count": 111,
   "id": "becb4b25",
   "metadata": {},
   "outputs": [
    {
     "name": "stdout",
     "output_type": "stream",
     "text": [
      "5\n",
      "34 56 78 67 100 \n",
      "45 67 87 98 67 \n",
      "56 34 56 54 76 \n",
      "89 45 67 89 34 \n",
      "65 67 89 65 54 \n"
     ]
    }
   ],
   "source": [
    "with open(\"Grades.txt\",\"r\") as gd:\n",
    "    print(gd.read())"
   ]
  },
  {
   "cell_type": "raw",
   "id": "bffe9610",
   "metadata": {},
   "source": [
    "Q3.2 Write a program to read the contents of a file Grades.txt and calculate the total marks and percentage obtained by a student.\n",
    "Output: The student:1 The Total is:400 and Percentage is:80.0 The student:2 The Total is:313 and Percentage is:62.6 The student:3 The\n",
    "Total is:367 and Percentage is:73.4 The student:4 The Total is:354 and Percentage is:70.8 The student:5 The Total is:376 and Percentage\n",
    "is:75.2"
   ]
  },
  {
   "cell_type": "code",
   "execution_count": 288,
   "id": "b66a3a36",
   "metadata": {},
   "outputs": [
    {
     "name": "stdout",
     "output_type": "stream",
     "text": [
      "The Student:1 The Total is:5 and Percentage is:100.0\n",
      "The Student:2 The Total is:209 and Percentage is:4180.0\n",
      "The Student:3 The Total is:545 and Percentage is:10900.0\n",
      "The Student:4 The Total is:1013 and Percentage is:20260.0\n",
      "The Student:5 The Total is:1415 and Percentage is:28300.0\n",
      "The Student:6 The Total is:2015 and Percentage is:40300.0\n"
     ]
    }
   ],
   "source": [
    "with open(\"Grades.txt\",\"r\") as gf:\n",
    " #TO DO: Write your Code Here\n",
    "    i = 0\n",
    "    a =[]\n",
    "    d = 0\n",
    "    while i <= 5:\n",
    "        "
   ]
  },
  {
   "cell_type": "code",
   "execution_count": null,
   "id": "ae480de6",
   "metadata": {},
   "outputs": [],
   "source": []
  },
  {
   "cell_type": "markdown",
   "id": "e5667011",
   "metadata": {},
   "source": []
  },
  {
   "cell_type": "code",
   "execution_count": null,
   "id": "fdf8ba47",
   "metadata": {},
   "outputs": [],
   "source": []
  },
  {
   "cell_type": "code",
   "execution_count": null,
   "id": "939660cb",
   "metadata": {},
   "outputs": [],
   "source": []
  },
  {
   "cell_type": "code",
   "execution_count": null,
   "id": "bd971962",
   "metadata": {},
   "outputs": [],
   "source": []
  }
 ],
 "metadata": {
  "kernelspec": {
   "display_name": "Python 3 (ipykernel)",
   "language": "python",
   "name": "python3"
  },
  "language_info": {
   "codemirror_mode": {
    "name": "ipython",
    "version": 3
   },
   "file_extension": ".py",
   "mimetype": "text/x-python",
   "name": "python",
   "nbconvert_exporter": "python",
   "pygments_lexer": "ipython3",
   "version": "3.10.0"
  }
 },
 "nbformat": 4,
 "nbformat_minor": 5
}
