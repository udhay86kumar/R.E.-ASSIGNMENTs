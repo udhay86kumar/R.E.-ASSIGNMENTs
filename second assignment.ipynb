{
 "cells": [
  {
   "cell_type": "markdown",
   "id": "47d5376e",
   "metadata": {},
   "source": [
    "# REV-WEEK3- Assignment on Python Dictionary"
   ]
  },
  {
   "cell_type": "raw",
   "id": "d3747e59",
   "metadata": {},
   "source": [
    "Problem 1:\n",
    "Use the following dictionary objects for this assignment:\n",
    "dict_aisle = { \"A100\": ['bananas', 'milk', 'bread'],\n",
    " \"A101\": ['pens', 'pencils', 'paper'],\n",
    " \"A102\": ['canned_peas', 'canned_carrots', 'canned_beans'],\n",
    " \"A103\": ['plates', 'glasses', 'table_cloth']\n",
    " }\n",
    "dict_employee_IDs = {\"ID01\": 'John Papa',\n",
    " \"ID02\": 'David Thompson',\n",
    " \"ID03\": 'Terry Gao',\n",
    " \"ID04\": 'Barry Tex'}"
   ]
  },
  {
   "cell_type": "raw",
   "id": "30e4aef8",
   "metadata": {},
   "source": [
    "Perform the following Operation on given dictionary data:\n",
    "1.Print the name of the ID \"ID02\" from the dictionary dict_employee_IDs"
   ]
  },
  {
   "cell_type": "code",
   "execution_count": 7,
   "id": "f0eb2af9",
   "metadata": {},
   "outputs": [],
   "source": [
    "dict_employee_IDs = {\"ID01\": 'John Papa',\n",
    " \"ID02\": 'David Thompson',\n",
    " \"ID03\": 'Terry Gao',\n",
    " \"ID04\": 'Barry Tex'}"
   ]
  },
  {
   "cell_type": "code",
   "execution_count": 10,
   "id": "007ccd45",
   "metadata": {},
   "outputs": [
    {
     "data": {
      "text/plain": [
       "'David Thompson'"
      ]
     },
     "execution_count": 10,
     "metadata": {},
     "output_type": "execute_result"
    }
   ],
   "source": [
    "dict_employee_IDs[\"ID02\"]"
   ]
  },
  {
   "cell_type": "markdown",
   "id": "e964c6c2",
   "metadata": {},
   "source": [
    "2.Delete aisle \"A102\" from the dictionary dict_aisle"
   ]
  },
  {
   "cell_type": "code",
   "execution_count": 11,
   "id": "28261969",
   "metadata": {},
   "outputs": [],
   "source": [
    "dict_aisle = { \"A100\": ['bananas', 'milk', 'bread'],\n",
    " \"A101\": ['pens', 'pencils', 'paper'],\n",
    " \"A102\": ['canned_peas', 'canned_carrots', 'canned_beans'],\n",
    " \"A103\": ['plates', 'glasses', 'table_cloth']\n",
    " }"
   ]
  },
  {
   "cell_type": "code",
   "execution_count": 24,
   "id": "41acccd2",
   "metadata": {},
   "outputs": [
    {
     "name": "stdout",
     "output_type": "stream",
     "text": [
      "{'A100': ['bananas', 'milk', 'bread'], 'A101': ['pens', 'pencils', 'paper'], 'A103': ['plates', 'glasses', 'table_cloth']}\n"
     ]
    }
   ],
   "source": [
    "#dict_aisle.pop(\"A102\")\n",
    "print(dict_aisle)"
   ]
  },
  {
   "cell_type": "raw",
   "id": "08077c14",
   "metadata": {},
   "source": [
    "Problem 2:\n",
    "\n",
    "Use the following dictionary objects for this assignment:\n",
    "dict_aisle = { \"A100\": ['bananas', 'milk', 'bread'],\n",
    " \"A101\": ['pens', 'pencils', 'paper'],\n",
    " \"A102\": ['canned_peas', 'canned_carrots', 'canned_beans'],\n",
    " \"A103\": ['plates', 'glasses', 'table_cloth']\n",
    " }\n",
    "Perform the following Operation on given dictionary data:\n",
    "1.Prompt the user to enter the name of the item:\n",
    " a.If found, display the aisle number of the item.\n",
    " b.if not found, display a message \"Item Not Found!!\"\n",
    "2.Add the following aisle to the dict_aisle:\n",
    " a.Aisle No: B101\n",
    " b.Items on aisle: kids toys, kids clothes\n",
    "3. Print the dict_aisle as below:\n",
    "A100 : ['bananas', 'milk', 'bread']\n",
    "A101 : ['pens', 'pencils', 'paper']\n",
    "A102 : ['canned peas', 'canned carrots', 'canned beans']\n",
    "A103 : ['plates', 'glasses', 'table cloth']\n",
    "B101 : ['Kids toys', 'Kids cloths']"
   ]
  },
  {
   "cell_type": "raw",
   "id": "9bb443c0",
   "metadata": {},
   "source": [
    "1.Prompt the user to enter the name of the item:\n",
    " a.If found, display the aisle number of the item.\n",
    " b.if not found, display a message \"Item Not Found!!\""
   ]
  },
  {
   "cell_type": "code",
   "execution_count": 50,
   "id": "2e8265da",
   "metadata": {},
   "outputs": [
    {
     "name": "stdout",
     "output_type": "stream",
     "text": [
      "Enter name fo the item:milk\n",
      "If found d\n"
     ]
    }
   ],
   "source": [
    "dict_aisle = { \"A100\": ['bananas', 'milk', 'bread'],\n",
    " \"A101\": ['pens', 'pencils', 'paper'],\n",
    " \"A102\": ['canned_peas', 'canned_carrots', 'canned_beans'],\n",
    " \"A103\": ['plates', 'glasses', 'table_cloth']\n",
    " }\n",
    "dic = input(\"Enter name fo the item:\")\n",
    "str1=str(dict_aisle.values())\n",
    "if dic in str1:\n",
    "    print(\"If found\",str1[0])\n",
    "else:\n",
    "    print(\"If not found\")"
   ]
  },
  {
   "cell_type": "code",
   "execution_count": 51,
   "id": "905fd088",
   "metadata": {},
   "outputs": [
    {
     "data": {
      "text/plain": [
       "\"dict_values([['bananas', 'milk', 'bread'], ['pens', 'pencils', 'paper'], ['canned_peas', 'canned_carrots', 'canned_beans'], ['plates', 'glasses', 'table_cloth']])\""
      ]
     },
     "execution_count": 51,
     "metadata": {},
     "output_type": "execute_result"
    }
   ],
   "source": [
    "#print(dir(dict))"
   ]
  },
  {
   "cell_type": "raw",
   "id": "f466d279",
   "metadata": {},
   "source": [
    "2.Add the following aisle to the dict_aisle:\n",
    " a.Aisle No: B101\n",
    " b.Items on aisle: kids toys, kids clothes"
   ]
  },
  {
   "cell_type": "code",
   "execution_count": 56,
   "id": "a4e87253",
   "metadata": {},
   "outputs": [],
   "source": [
    "dict_aisle[\"B101\"] = [\"kids toys,kids clothes\"]"
   ]
  },
  {
   "cell_type": "code",
   "execution_count": 57,
   "id": "f87e627a",
   "metadata": {},
   "outputs": [
    {
     "data": {
      "text/plain": [
       "{'A100': ['bananas', 'milk', 'bread'],\n",
       " 'A101': ['pens', 'pencils', 'paper'],\n",
       " 'A102': ['canned_peas', 'canned_carrots', 'canned_beans'],\n",
       " 'A103': ['plates', 'glasses', 'table_cloth'],\n",
       " 'B101': ['kids toys,kids clothes']}"
      ]
     },
     "execution_count": 57,
     "metadata": {},
     "output_type": "execute_result"
    }
   ],
   "source": [
    "dict_aisle"
   ]
  },
  {
   "cell_type": "raw",
   "id": "15820275",
   "metadata": {},
   "source": [
    "3. Print the dict_aisle as below:"
   ]
  },
  {
   "cell_type": "code",
   "execution_count": 60,
   "id": "371abdea",
   "metadata": {},
   "outputs": [
    {
     "data": {
      "text/plain": [
       "{'A100': ['bananas', 'milk', 'bread'],\n",
       " 'A101': ['pens', 'pencils', 'paper'],\n",
       " 'A102': ['canned_peas', 'canned_carrots', 'canned_beans'],\n",
       " 'A103': ['plates', 'glasses', 'table_cloth'],\n",
       " 'B101': ['kids toys,kids clothes']}"
      ]
     },
     "execution_count": 60,
     "metadata": {},
     "output_type": "execute_result"
    }
   ],
   "source": [
    "dict_aisle"
   ]
  },
  {
   "cell_type": "markdown",
   "id": "f4aafdab",
   "metadata": {},
   "source": [
    "Problem 3:\n",
    "Use the following dictionary objects for this assignment:\n",
    "Fruit : price\n",
    "inventory = { \"banana\": 0.25,\n",
    " \"watermelon\": 5.25,\n",
    " \"orange\": 0.50,\n",
    " \"peer\": 0.40,\n",
    " \"apple\": 0.30,\n",
    " \"kiwi\": 0.75,\n",
    " }\n",
    "Perform the following Operation on given dictionary data:\n",
    "1.Prompt the user to enter the quantity of each fruit and display the total cost of the purchase."
   ]
  },
  {
   "cell_type": "code",
   "execution_count": 4,
   "id": "0f3b8b15",
   "metadata": {},
   "outputs": [
    {
     "name": "stdout",
     "output_type": "stream",
     "text": [
      "Enter the quantity : 2\n",
      "total cost of the purchase : 14.9\n"
     ]
    }
   ],
   "source": [
    "dic1=int(input(\"Enter the quantity : \"))\n",
    "inventory = { \"banana\": 0.25,\n",
    " \"watermelon\": 5.25,\n",
    " \"orange\": 0.50,\n",
    " \"peer\": 0.40,\n",
    " \"apple\": 0.30,\n",
    " \"kiwi\": 0.75,\n",
    " }\n",
    "result = 0\n",
    "for i in inventory.values():\n",
    "    result += i*dic1\n",
    "print(\"total cost of the purchase :\",result)\n",
    "     "
   ]
  },
  {
   "cell_type": "code",
   "execution_count": null,
   "id": "795555db",
   "metadata": {},
   "outputs": [],
   "source": []
  },
  {
   "cell_type": "code",
   "execution_count": null,
   "id": "7e8b3a43",
   "metadata": {},
   "outputs": [],
   "source": []
  }
 ],
 "metadata": {
  "kernelspec": {
   "display_name": "Python 3 (ipykernel)",
   "language": "python",
   "name": "python3"
  },
  "language_info": {
   "codemirror_mode": {
    "name": "ipython",
    "version": 3
   },
   "file_extension": ".py",
   "mimetype": "text/x-python",
   "name": "python",
   "nbconvert_exporter": "python",
   "pygments_lexer": "ipython3",
   "version": "3.10.0"
  }
 },
 "nbformat": 4,
 "nbformat_minor": 5
}
